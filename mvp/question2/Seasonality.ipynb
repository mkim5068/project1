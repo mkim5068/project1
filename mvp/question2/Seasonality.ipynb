{
 "cells": [
  {
   "cell_type": "code",
   "execution_count": 42,
   "metadata": {},
   "outputs": [],
   "source": [
    "import pandas as pd\n",
    "import matplotlib.pyplot as plt\n",
    "import numpy as np"
   ]
  },
  {
   "cell_type": "code",
   "execution_count": 43,
   "metadata": {},
   "outputs": [
    {
     "data": {
      "text/html": [
       "<div>\n",
       "<style scoped>\n",
       "    .dataframe tbody tr th:only-of-type {\n",
       "        vertical-align: middle;\n",
       "    }\n",
       "\n",
       "    .dataframe tbody tr th {\n",
       "        vertical-align: top;\n",
       "    }\n",
       "\n",
       "    .dataframe thead th {\n",
       "        text-align: right;\n",
       "    }\n",
       "</style>\n",
       "<table border=\"1\" class=\"dataframe\">\n",
       "  <thead>\n",
       "    <tr style=\"text-align: right;\">\n",
       "      <th></th>\n",
       "      <th>listing_id</th>\n",
       "      <th>date</th>\n",
       "      <th>available</th>\n",
       "      <th>price</th>\n",
       "      <th>year</th>\n",
       "      <th>month</th>\n",
       "    </tr>\n",
       "  </thead>\n",
       "  <tbody>\n",
       "    <tr>\n",
       "      <td>0</td>\n",
       "      <td>8110</td>\n",
       "      <td>10/2/18</td>\n",
       "      <td>t</td>\n",
       "      <td>105</td>\n",
       "      <td>2018</td>\n",
       "      <td>October</td>\n",
       "    </tr>\n",
       "    <tr>\n",
       "      <td>1</td>\n",
       "      <td>14468</td>\n",
       "      <td>10/2/18</td>\n",
       "      <td>t</td>\n",
       "      <td>99</td>\n",
       "      <td>2018</td>\n",
       "      <td>October</td>\n",
       "    </tr>\n",
       "    <tr>\n",
       "      <td>2</td>\n",
       "      <td>16076</td>\n",
       "      <td>10/2/18</td>\n",
       "      <td>t</td>\n",
       "      <td>94</td>\n",
       "      <td>2018</td>\n",
       "      <td>October</td>\n",
       "    </tr>\n",
       "    <tr>\n",
       "      <td>3</td>\n",
       "      <td>19159</td>\n",
       "      <td>10/2/18</td>\n",
       "      <td>t</td>\n",
       "      <td>140</td>\n",
       "      <td>2018</td>\n",
       "      <td>October</td>\n",
       "    </tr>\n",
       "    <tr>\n",
       "      <td>4</td>\n",
       "      <td>19169</td>\n",
       "      <td>10/2/18</td>\n",
       "      <td>t</td>\n",
       "      <td>285</td>\n",
       "      <td>2018</td>\n",
       "      <td>October</td>\n",
       "    </tr>\n",
       "  </tbody>\n",
       "</table>\n",
       "</div>"
      ],
      "text/plain": [
       "   listing_id     date available  price  year    month\n",
       "0        8110  10/2/18         t    105  2018  October\n",
       "1       14468  10/2/18         t     99  2018  October\n",
       "2       16076  10/2/18         t     94  2018  October\n",
       "3       19159  10/2/18         t    140  2018  October\n",
       "4       19169  10/2/18         t    285  2018  October"
      ]
     },
     "execution_count": 43,
     "metadata": {},
     "output_type": "execute_result"
    }
   ],
   "source": [
    "#Retrieve NY data\n",
    "csv_path_ny = \"nyc_calendar.csv\"\n",
    "nyc_df = pd.read_csv(csv_path_ny)\n",
    "nyc_df.head()"
   ]
  },
  {
   "cell_type": "code",
   "execution_count": 44,
   "metadata": {},
   "outputs": [
    {
     "data": {
      "text/plain": [
       "month\n",
       "April        164.102095\n",
       "August       165.061762\n",
       "December     166.199800\n",
       "February     155.381912\n",
       "January      156.692847\n",
       "July         165.319378\n",
       "June         164.451798\n",
       "March        158.867220\n",
       "May          163.838634\n",
       "November     165.974762\n",
       "October      162.101618\n",
       "September    164.626408\n",
       "Name: price, dtype: float64"
      ]
     },
     "execution_count": 44,
     "metadata": {},
     "output_type": "execute_result"
    }
   ],
   "source": [
    "#Group NY data by month and find the average price for each month\n",
    "grouped_ny = nyc_df.groupby([\"month\"])\n",
    "grouped_ny_month = grouped_ny[\"price\"].mean()\n",
    "grouped_ny_month"
   ]
  },
  {
   "cell_type": "code",
   "execution_count": 45,
   "metadata": {},
   "outputs": [
    {
     "data": {
      "text/html": [
       "<style  type=\"text/css\" >\n",
       "</style><table id=\"T_bdd607cc_7112_11ea_baa4_c4b301d2d9dd\" ><thead>    <tr>        <th class=\"blank level0\" ></th>        <th class=\"col_heading level0 col0\" >price</th>    </tr>    <tr>        <th class=\"index_name level0\" >month</th>        <th class=\"blank\" ></th>    </tr></thead><tbody>\n",
       "                <tr>\n",
       "                        <th id=\"T_bdd607cc_7112_11ea_baa4_c4b301d2d9ddlevel0_row0\" class=\"row_heading level0 row0\" >January</th>\n",
       "                        <td id=\"T_bdd607cc_7112_11ea_baa4_c4b301d2d9ddrow0_col0\" class=\"data row0 col0\" >$156.69</td>\n",
       "            </tr>\n",
       "            <tr>\n",
       "                        <th id=\"T_bdd607cc_7112_11ea_baa4_c4b301d2d9ddlevel0_row1\" class=\"row_heading level0 row1\" >February</th>\n",
       "                        <td id=\"T_bdd607cc_7112_11ea_baa4_c4b301d2d9ddrow1_col0\" class=\"data row1 col0\" >$155.38</td>\n",
       "            </tr>\n",
       "            <tr>\n",
       "                        <th id=\"T_bdd607cc_7112_11ea_baa4_c4b301d2d9ddlevel0_row2\" class=\"row_heading level0 row2\" >March</th>\n",
       "                        <td id=\"T_bdd607cc_7112_11ea_baa4_c4b301d2d9ddrow2_col0\" class=\"data row2 col0\" >$158.87</td>\n",
       "            </tr>\n",
       "            <tr>\n",
       "                        <th id=\"T_bdd607cc_7112_11ea_baa4_c4b301d2d9ddlevel0_row3\" class=\"row_heading level0 row3\" >April</th>\n",
       "                        <td id=\"T_bdd607cc_7112_11ea_baa4_c4b301d2d9ddrow3_col0\" class=\"data row3 col0\" >$164.10</td>\n",
       "            </tr>\n",
       "            <tr>\n",
       "                        <th id=\"T_bdd607cc_7112_11ea_baa4_c4b301d2d9ddlevel0_row4\" class=\"row_heading level0 row4\" >May</th>\n",
       "                        <td id=\"T_bdd607cc_7112_11ea_baa4_c4b301d2d9ddrow4_col0\" class=\"data row4 col0\" >$163.84</td>\n",
       "            </tr>\n",
       "            <tr>\n",
       "                        <th id=\"T_bdd607cc_7112_11ea_baa4_c4b301d2d9ddlevel0_row5\" class=\"row_heading level0 row5\" >June</th>\n",
       "                        <td id=\"T_bdd607cc_7112_11ea_baa4_c4b301d2d9ddrow5_col0\" class=\"data row5 col0\" >$164.45</td>\n",
       "            </tr>\n",
       "            <tr>\n",
       "                        <th id=\"T_bdd607cc_7112_11ea_baa4_c4b301d2d9ddlevel0_row6\" class=\"row_heading level0 row6\" >July</th>\n",
       "                        <td id=\"T_bdd607cc_7112_11ea_baa4_c4b301d2d9ddrow6_col0\" class=\"data row6 col0\" >$165.32</td>\n",
       "            </tr>\n",
       "            <tr>\n",
       "                        <th id=\"T_bdd607cc_7112_11ea_baa4_c4b301d2d9ddlevel0_row7\" class=\"row_heading level0 row7\" >August</th>\n",
       "                        <td id=\"T_bdd607cc_7112_11ea_baa4_c4b301d2d9ddrow7_col0\" class=\"data row7 col0\" >$165.06</td>\n",
       "            </tr>\n",
       "            <tr>\n",
       "                        <th id=\"T_bdd607cc_7112_11ea_baa4_c4b301d2d9ddlevel0_row8\" class=\"row_heading level0 row8\" >September</th>\n",
       "                        <td id=\"T_bdd607cc_7112_11ea_baa4_c4b301d2d9ddrow8_col0\" class=\"data row8 col0\" >$164.63</td>\n",
       "            </tr>\n",
       "            <tr>\n",
       "                        <th id=\"T_bdd607cc_7112_11ea_baa4_c4b301d2d9ddlevel0_row9\" class=\"row_heading level0 row9\" >October</th>\n",
       "                        <td id=\"T_bdd607cc_7112_11ea_baa4_c4b301d2d9ddrow9_col0\" class=\"data row9 col0\" >$162.10</td>\n",
       "            </tr>\n",
       "            <tr>\n",
       "                        <th id=\"T_bdd607cc_7112_11ea_baa4_c4b301d2d9ddlevel0_row10\" class=\"row_heading level0 row10\" >November</th>\n",
       "                        <td id=\"T_bdd607cc_7112_11ea_baa4_c4b301d2d9ddrow10_col0\" class=\"data row10 col0\" >$165.97</td>\n",
       "            </tr>\n",
       "            <tr>\n",
       "                        <th id=\"T_bdd607cc_7112_11ea_baa4_c4b301d2d9ddlevel0_row11\" class=\"row_heading level0 row11\" >December</th>\n",
       "                        <td id=\"T_bdd607cc_7112_11ea_baa4_c4b301d2d9ddrow11_col0\" class=\"data row11 col0\" >$166.20</td>\n",
       "            </tr>\n",
       "    </tbody></table>"
      ],
      "text/plain": [
       "<pandas.io.formats.style.Styler at 0x11c7c5590>"
      ]
     },
     "execution_count": 45,
     "metadata": {},
     "output_type": "execute_result"
    }
   ],
   "source": [
    "#Rearrange NY data in a chronological order by making a new dataframe\n",
    "monthly_ny_price = pd.DataFrame(grouped_ny_month)\n",
    "monthly_ny_price_arranged = monthly_ny_price.loc[[\"January\",\"February\",\"March\",\"April\",\n",
    "                   \"May\",\"June\",\"July\",\"August\",\"September\",\n",
    "                   \"October\",\"November\",\"December\"],\n",
    "                  [\"price\"]]\n",
    "monthly_ny_price_arranged\n",
    "monthly_ny_price_arranged.style.format({\"price\":\"${:,.2f}\"})\n"
   ]
  },
  {
   "cell_type": "code",
   "execution_count": 46,
   "metadata": {},
   "outputs": [
    {
     "data": {
      "text/html": [
       "<div>\n",
       "<style scoped>\n",
       "    .dataframe tbody tr th:only-of-type {\n",
       "        vertical-align: middle;\n",
       "    }\n",
       "\n",
       "    .dataframe tbody tr th {\n",
       "        vertical-align: top;\n",
       "    }\n",
       "\n",
       "    .dataframe thead th {\n",
       "        text-align: right;\n",
       "    }\n",
       "</style>\n",
       "<table border=\"1\" class=\"dataframe\">\n",
       "  <thead>\n",
       "    <tr style=\"text-align: right;\">\n",
       "      <th></th>\n",
       "      <th>listing_id</th>\n",
       "      <th>date</th>\n",
       "      <th>available</th>\n",
       "      <th>price</th>\n",
       "      <th>year</th>\n",
       "      <th>month</th>\n",
       "    </tr>\n",
       "  </thead>\n",
       "  <tbody>\n",
       "    <tr>\n",
       "      <td>0</td>\n",
       "      <td>158890</td>\n",
       "      <td>11/6/19</td>\n",
       "      <td>t</td>\n",
       "      <td>107</td>\n",
       "      <td>2018</td>\n",
       "      <td>Nov</td>\n",
       "    </tr>\n",
       "    <tr>\n",
       "      <td>1</td>\n",
       "      <td>38296</td>\n",
       "      <td>11/6/19</td>\n",
       "      <td>t</td>\n",
       "      <td>80</td>\n",
       "      <td>2018</td>\n",
       "      <td>Nov</td>\n",
       "    </tr>\n",
       "    <tr>\n",
       "      <td>2</td>\n",
       "      <td>159454</td>\n",
       "      <td>11/6/19</td>\n",
       "      <td>t</td>\n",
       "      <td>161</td>\n",
       "      <td>2018</td>\n",
       "      <td>Nov</td>\n",
       "    </tr>\n",
       "    <tr>\n",
       "      <td>3</td>\n",
       "      <td>3176</td>\n",
       "      <td>11/6/19</td>\n",
       "      <td>t</td>\n",
       "      <td>90</td>\n",
       "      <td>2018</td>\n",
       "      <td>Nov</td>\n",
       "    </tr>\n",
       "    <tr>\n",
       "      <td>4</td>\n",
       "      <td>3309</td>\n",
       "      <td>11/6/19</td>\n",
       "      <td>t</td>\n",
       "      <td>26</td>\n",
       "      <td>2018</td>\n",
       "      <td>Nov</td>\n",
       "    </tr>\n",
       "  </tbody>\n",
       "</table>\n",
       "</div>"
      ],
      "text/plain": [
       "   listing_id     date available  price  year month\n",
       "0      158890  11/6/19         t    107  2018   Nov\n",
       "1       38296  11/6/19         t     80  2018   Nov\n",
       "2      159454  11/6/19         t    161  2018   Nov\n",
       "3        3176  11/6/19         t     90  2018   Nov\n",
       "4        3309  11/6/19         t     26  2018   Nov"
      ]
     },
     "execution_count": 46,
     "metadata": {},
     "output_type": "execute_result"
    }
   ],
   "source": [
    "#Retrieve Berlin Data\n",
    "csv_path_berlin = \"berlin_calendar.csv\"\n",
    "berlin_df = pd.read_csv(csv_path_berlin)\n",
    "berlin_df.head()"
   ]
  },
  {
   "cell_type": "code",
   "execution_count": 47,
   "metadata": {},
   "outputs": [
    {
     "data": {
      "text/plain": [
       "month\n",
       "April    73.535324\n",
       "Aug      74.296861\n",
       "Dec      83.210305\n",
       "Feb      74.010967\n",
       "Jan      75.815573\n",
       "July     74.385199\n",
       "June     74.260641\n",
       "Mar      73.669840\n",
       "May      74.154017\n",
       "Nov      78.337833\n",
       "Oct      73.121551\n",
       "Sept     74.993258\n",
       "Name: price, dtype: float64"
      ]
     },
     "execution_count": 47,
     "metadata": {},
     "output_type": "execute_result"
    }
   ],
   "source": [
    "#Group Berlin data by month and find the average price for each month\n",
    "grouped_berlin = berlin_df.groupby([\"month\"])\n",
    "grouped_berlin_month = grouped_berlin[\"price\"].mean()\n",
    "grouped_berlin_month"
   ]
  },
  {
   "cell_type": "code",
   "execution_count": 19,
   "metadata": {},
   "outputs": [
    {
     "data": {
      "text/html": [
       "<style  type=\"text/css\" >\n",
       "</style><table id=\"T_6829e8c6_710c_11ea_baa4_c4b301d2d9dd\" ><thead>    <tr>        <th class=\"blank level0\" ></th>        <th class=\"col_heading level0 col0\" >price</th>    </tr>    <tr>        <th class=\"index_name level0\" >month</th>        <th class=\"blank\" ></th>    </tr></thead><tbody>\n",
       "                <tr>\n",
       "                        <th id=\"T_6829e8c6_710c_11ea_baa4_c4b301d2d9ddlevel0_row0\" class=\"row_heading level0 row0\" >Jan</th>\n",
       "                        <td id=\"T_6829e8c6_710c_11ea_baa4_c4b301d2d9ddrow0_col0\" class=\"data row0 col0\" >$75.82</td>\n",
       "            </tr>\n",
       "            <tr>\n",
       "                        <th id=\"T_6829e8c6_710c_11ea_baa4_c4b301d2d9ddlevel0_row1\" class=\"row_heading level0 row1\" >Feb</th>\n",
       "                        <td id=\"T_6829e8c6_710c_11ea_baa4_c4b301d2d9ddrow1_col0\" class=\"data row1 col0\" >$74.01</td>\n",
       "            </tr>\n",
       "            <tr>\n",
       "                        <th id=\"T_6829e8c6_710c_11ea_baa4_c4b301d2d9ddlevel0_row2\" class=\"row_heading level0 row2\" >Mar</th>\n",
       "                        <td id=\"T_6829e8c6_710c_11ea_baa4_c4b301d2d9ddrow2_col0\" class=\"data row2 col0\" >$73.67</td>\n",
       "            </tr>\n",
       "            <tr>\n",
       "                        <th id=\"T_6829e8c6_710c_11ea_baa4_c4b301d2d9ddlevel0_row3\" class=\"row_heading level0 row3\" >April</th>\n",
       "                        <td id=\"T_6829e8c6_710c_11ea_baa4_c4b301d2d9ddrow3_col0\" class=\"data row3 col0\" >$73.54</td>\n",
       "            </tr>\n",
       "            <tr>\n",
       "                        <th id=\"T_6829e8c6_710c_11ea_baa4_c4b301d2d9ddlevel0_row4\" class=\"row_heading level0 row4\" >May</th>\n",
       "                        <td id=\"T_6829e8c6_710c_11ea_baa4_c4b301d2d9ddrow4_col0\" class=\"data row4 col0\" >$74.15</td>\n",
       "            </tr>\n",
       "            <tr>\n",
       "                        <th id=\"T_6829e8c6_710c_11ea_baa4_c4b301d2d9ddlevel0_row5\" class=\"row_heading level0 row5\" >June</th>\n",
       "                        <td id=\"T_6829e8c6_710c_11ea_baa4_c4b301d2d9ddrow5_col0\" class=\"data row5 col0\" >$74.26</td>\n",
       "            </tr>\n",
       "            <tr>\n",
       "                        <th id=\"T_6829e8c6_710c_11ea_baa4_c4b301d2d9ddlevel0_row6\" class=\"row_heading level0 row6\" >July</th>\n",
       "                        <td id=\"T_6829e8c6_710c_11ea_baa4_c4b301d2d9ddrow6_col0\" class=\"data row6 col0\" >$74.39</td>\n",
       "            </tr>\n",
       "            <tr>\n",
       "                        <th id=\"T_6829e8c6_710c_11ea_baa4_c4b301d2d9ddlevel0_row7\" class=\"row_heading level0 row7\" >Aug</th>\n",
       "                        <td id=\"T_6829e8c6_710c_11ea_baa4_c4b301d2d9ddrow7_col0\" class=\"data row7 col0\" >$74.30</td>\n",
       "            </tr>\n",
       "            <tr>\n",
       "                        <th id=\"T_6829e8c6_710c_11ea_baa4_c4b301d2d9ddlevel0_row8\" class=\"row_heading level0 row8\" >Sept</th>\n",
       "                        <td id=\"T_6829e8c6_710c_11ea_baa4_c4b301d2d9ddrow8_col0\" class=\"data row8 col0\" >$74.99</td>\n",
       "            </tr>\n",
       "            <tr>\n",
       "                        <th id=\"T_6829e8c6_710c_11ea_baa4_c4b301d2d9ddlevel0_row9\" class=\"row_heading level0 row9\" >Oct</th>\n",
       "                        <td id=\"T_6829e8c6_710c_11ea_baa4_c4b301d2d9ddrow9_col0\" class=\"data row9 col0\" >$73.12</td>\n",
       "            </tr>\n",
       "            <tr>\n",
       "                        <th id=\"T_6829e8c6_710c_11ea_baa4_c4b301d2d9ddlevel0_row10\" class=\"row_heading level0 row10\" >Nov</th>\n",
       "                        <td id=\"T_6829e8c6_710c_11ea_baa4_c4b301d2d9ddrow10_col0\" class=\"data row10 col0\" >$78.34</td>\n",
       "            </tr>\n",
       "            <tr>\n",
       "                        <th id=\"T_6829e8c6_710c_11ea_baa4_c4b301d2d9ddlevel0_row11\" class=\"row_heading level0 row11\" >Dec</th>\n",
       "                        <td id=\"T_6829e8c6_710c_11ea_baa4_c4b301d2d9ddrow11_col0\" class=\"data row11 col0\" >$83.21</td>\n",
       "            </tr>\n",
       "    </tbody></table>"
      ],
      "text/plain": [
       "<pandas.io.formats.style.Styler at 0x11c615890>"
      ]
     },
     "execution_count": 19,
     "metadata": {},
     "output_type": "execute_result"
    }
   ],
   "source": [
    "#Rearrange Berlin data in a chronological order by making a new dataframe\n",
    "monthly_berlin_price = pd.DataFrame(grouped_berlin_month)\n",
    "monthly_berlin_price_arranged = monthly_berlin_price.loc[[\"Jan\",\"Feb\",\"Mar\",\"April\",\n",
    "                   \"May\",\"June\",\"July\",\"Aug\",\"Sept\",\n",
    "                   \"Oct\",\"Nov\",\"Dec\"],\n",
    "                  [\"price\"]]\n",
    "monthly_berlin_price_arranged\n",
    "monthly_berlin_price_arranged.style.format({\"price\":\"${:,.2f}\"})"
   ]
  },
  {
   "cell_type": "code",
   "execution_count": null,
   "metadata": {},
   "outputs": [],
   "source": []
  },
  {
   "cell_type": "code",
   "execution_count": 55,
   "metadata": {},
   "outputs": [
    {
     "data": {
      "image/png": "[encoded data removed]",
      "text/plain": [
       "<Figure size 432x288 with 1 Axes>"
      ]
     },
     "metadata": {
      "needs_background": "light"
     },
     "output_type": "display_data"
    }
   ],
   "source": [
    "months = [\"Jan\",\"Feb\",\"Mar\",\"April\",\n",
    "          \"May\",\"June\",\"July\",\"Aug\",\"Sept\",\n",
    "          \"Oct\",\"Nov\",\"Dec\"]\n",
    "price_ny = [156, 155, 158, 164, 163, 164, 165, 165, 164, 162, 165, 166]\n",
    "price_berlin = [76, 74, 73, 73, 74, 74, 74, 74, 73 , 78, 79, 83]\n",
    "\n",
    "\n",
    "plt.plot(months, price_ny, marker=\"+\", color=\"blue\", label=\"NYC\",)\n",
    "plt.plot(months, price_berlin, marker=\"s\", color=\"red\", label=\"Berlin\")\n",
    "\n",
    "plt.title(\"Average Airbnb Rental Price by Month\")\n",
    "plt.xlabel(\"Months\")\n",
    "plt.ylabel(\"Price in $\")\n",
    "plt.legend(loc=\"best\")\n",
    "plt.grid()"
   ]
  },
  {
   "cell_type": "code",
   "execution_count": 117,
   "metadata": {},
   "outputs": [
    {
     "data": {
      "image/png": "[encoded data removed]",
      "text/plain": [
       "<Figure size 432x288 with 2 Axes>"
      ]
     },
     "metadata": {
      "needs_background": "light"
     },
     "output_type": "display_data"
    }
   ],
   "source": [
    "months = [\"Jan\",\"Feb\",\"Mar\",\"April\",\n",
    "          \"May\",\"June\",\"July\",\"Aug\",\"Sept\",\n",
    "          \"Oct\",\"Nov\",\"Dec\"]\n",
    "\n",
    "price_ny = [156, 155, 158, 164, 163, 164, 165, 165, 164, 162, 165, 166]\n",
    "price_berlin = [76, 74, 73, 73, 74, 74, 74, 74, 73 , 78, 79, 83]\n",
    "\n",
    "fig, stacked = plt.subplots(2)\n",
    "\n",
    "fig.suptitle(\"NYC vs Berlin Price by Month in 2018\")\n",
    "stacked[0].plot(months, price_ny, marker=\"s\", color=\"blue\", label=\"NYC\",)\n",
    "stacked[1].plot(months, price_berlin, marker=\"s\", color=\"red\", label=\"Berlin\")\n",
    "\n",
    "plt.xlabel(\"Months\")\n",
    "\n",
    "stacked[0].grid()\n",
    "stacked[1].grid()\n"
   ]
  },
  {
   "cell_type": "code",
   "execution_count": null,
   "metadata": {},
   "outputs": [],
   "source": []
  }
 ],
 "metadata": {
  "kernelspec": {
   "display_name": "Python 3",
   "language": "python",
   "name": "python3"
  },
  "language_info": {
   "codemirror_mode": {
    "name": "ipython",
    "version": 3
   },
   "file_extension": ".py",
   "mimetype": "text/x-python",
   "name": "python",
   "nbconvert_exporter": "python",
   "pygments_lexer": "ipython3",
   "version": "3.7.4"
  }
 },
 "nbformat": 4,
 "nbformat_minor": 2
}
