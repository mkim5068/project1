{
 "cells": [
  {
   "cell_type": "code",
   "execution_count": 25,
   "metadata": {},
   "outputs": [],
   "source": [
    "import pandas as pd"
   ]
  },
  {
   "cell_type": "code",
   "execution_count": 30,
   "metadata": {},
   "outputs": [
    {
     "data": {
      "text/html": [
       "<div>\n",
       "<style scoped>\n",
       "    .dataframe tbody tr th:only-of-type {\n",
       "        vertical-align: middle;\n",
       "    }\n",
       "\n",
       "    .dataframe tbody tr th {\n",
       "        vertical-align: top;\n",
       "    }\n",
       "\n",
       "    .dataframe thead th {\n",
       "        text-align: right;\n",
       "    }\n",
       "</style>\n",
       "<table border=\"1\" class=\"dataframe\">\n",
       "  <thead>\n",
       "    <tr style=\"text-align: right;\">\n",
       "      <th></th>\n",
       "      <th>listing_id</th>\n",
       "      <th>date</th>\n",
       "      <th>available</th>\n",
       "      <th>price</th>\n",
       "      <th>year</th>\n",
       "      <th>month</th>\n",
       "    </tr>\n",
       "  </thead>\n",
       "  <tbody>\n",
       "    <tr>\n",
       "      <td>0</td>\n",
       "      <td>8110</td>\n",
       "      <td>10/2/18</td>\n",
       "      <td>t</td>\n",
       "      <td>105</td>\n",
       "      <td>2018</td>\n",
       "      <td>October</td>\n",
       "    </tr>\n",
       "    <tr>\n",
       "      <td>1</td>\n",
       "      <td>14468</td>\n",
       "      <td>10/2/18</td>\n",
       "      <td>t</td>\n",
       "      <td>99</td>\n",
       "      <td>2018</td>\n",
       "      <td>October</td>\n",
       "    </tr>\n",
       "    <tr>\n",
       "      <td>2</td>\n",
       "      <td>16076</td>\n",
       "      <td>10/2/18</td>\n",
       "      <td>t</td>\n",
       "      <td>94</td>\n",
       "      <td>2018</td>\n",
       "      <td>October</td>\n",
       "    </tr>\n",
       "    <tr>\n",
       "      <td>3</td>\n",
       "      <td>19159</td>\n",
       "      <td>10/2/18</td>\n",
       "      <td>t</td>\n",
       "      <td>140</td>\n",
       "      <td>2018</td>\n",
       "      <td>October</td>\n",
       "    </tr>\n",
       "    <tr>\n",
       "      <td>4</td>\n",
       "      <td>19169</td>\n",
       "      <td>10/2/18</td>\n",
       "      <td>t</td>\n",
       "      <td>285</td>\n",
       "      <td>2018</td>\n",
       "      <td>October</td>\n",
       "    </tr>\n",
       "  </tbody>\n",
       "</table>\n",
       "</div>"
      ],
      "text/plain": [
       "   listing_id     date available  price  year    month\n",
       "0        8110  10/2/18         t    105  2018  October\n",
       "1       14468  10/2/18         t     99  2018  October\n",
       "2       16076  10/2/18         t     94  2018  October\n",
       "3       19159  10/2/18         t    140  2018  October\n",
       "4       19169  10/2/18         t    285  2018  October"
      ]
     },
     "execution_count": 30,
     "metadata": {},
     "output_type": "execute_result"
    }
   ],
   "source": [
    "csv_path = \"nyc_calendar.csv\"\n",
    "nyc_df = pd.read_csv(csv_path)\n",
    "nyc_df.head()"
   ]
  },
  {
   "cell_type": "code",
   "execution_count": 40,
   "metadata": {},
   "outputs": [
    {
     "data": {
      "text/plain": [
       "month\n",
       "April        164.102095\n",
       "August       165.061762\n",
       "December     166.199800\n",
       "February     155.381912\n",
       "January      156.692847\n",
       "July         165.319378\n",
       "June         164.451798\n",
       "March        158.867220\n",
       "May          163.838634\n",
       "November     165.974762\n",
       "October      162.101618\n",
       "September    164.626408\n",
       "Name: price, dtype: float64"
      ]
     },
     "execution_count": 40,
     "metadata": {},
     "output_type": "execute_result"
    }
   ],
   "source": [
    "grouped = nyc_df.groupby([\"month\"])\n",
    "grouped_month = grouped[\"price\"].mean()\n",
    "grouped_month"
   ]
  },
  {
   "cell_type": "code",
   "execution_count": null,
   "metadata": {},
   "outputs": [],
   "source": []
  }
 ],
 "metadata": {
  "kernelspec": {
   "display_name": "Python 3",
   "language": "python",
   "name": "python3"
  },
  "language_info": {
   "codemirror_mode": {
    "name": "ipython",
    "version": 3
   },
   "file_extension": ".py",
   "mimetype": "text/x-python",
   "name": "python",
   "nbconvert_exporter": "python",
   "pygments_lexer": "ipython3",
   "version": "3.7.4"
  }
 },
 "nbformat": 4,
 "nbformat_minor": 2
}
