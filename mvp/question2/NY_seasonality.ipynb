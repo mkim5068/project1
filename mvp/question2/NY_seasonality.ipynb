{
 "cells": [
  {
   "cell_type": "code",
   "execution_count": 2,
   "metadata": {},
   "outputs": [],
   "source": [
    "import pandas as pd\n",
    "import matplotlib.pyplot as plt\n",
    "import numpy as np"
   ]
  },
  {
   "cell_type": "code",
   "execution_count": 3,
   "metadata": {},
   "outputs": [
    {
     "data": {
      "text/html": [
       "<div>\n",
       "<style scoped>\n",
       "    .dataframe tbody tr th:only-of-type {\n",
       "        vertical-align: middle;\n",
       "    }\n",
       "\n",
       "    .dataframe tbody tr th {\n",
       "        vertical-align: top;\n",
       "    }\n",
       "\n",
       "    .dataframe thead th {\n",
       "        text-align: right;\n",
       "    }\n",
       "</style>\n",
       "<table border=\"1\" class=\"dataframe\">\n",
       "  <thead>\n",
       "    <tr style=\"text-align: right;\">\n",
       "      <th></th>\n",
       "      <th>listing_id</th>\n",
       "      <th>date</th>\n",
       "      <th>available</th>\n",
       "      <th>price</th>\n",
       "      <th>year</th>\n",
       "      <th>month</th>\n",
       "    </tr>\n",
       "  </thead>\n",
       "  <tbody>\n",
       "    <tr>\n",
       "      <td>0</td>\n",
       "      <td>8110</td>\n",
       "      <td>10/2/18</td>\n",
       "      <td>t</td>\n",
       "      <td>105</td>\n",
       "      <td>2018</td>\n",
       "      <td>October</td>\n",
       "    </tr>\n",
       "    <tr>\n",
       "      <td>1</td>\n",
       "      <td>14468</td>\n",
       "      <td>10/2/18</td>\n",
       "      <td>t</td>\n",
       "      <td>99</td>\n",
       "      <td>2018</td>\n",
       "      <td>October</td>\n",
       "    </tr>\n",
       "    <tr>\n",
       "      <td>2</td>\n",
       "      <td>16076</td>\n",
       "      <td>10/2/18</td>\n",
       "      <td>t</td>\n",
       "      <td>94</td>\n",
       "      <td>2018</td>\n",
       "      <td>October</td>\n",
       "    </tr>\n",
       "    <tr>\n",
       "      <td>3</td>\n",
       "      <td>19159</td>\n",
       "      <td>10/2/18</td>\n",
       "      <td>t</td>\n",
       "      <td>140</td>\n",
       "      <td>2018</td>\n",
       "      <td>October</td>\n",
       "    </tr>\n",
       "    <tr>\n",
       "      <td>4</td>\n",
       "      <td>19169</td>\n",
       "      <td>10/2/18</td>\n",
       "      <td>t</td>\n",
       "      <td>285</td>\n",
       "      <td>2018</td>\n",
       "      <td>October</td>\n",
       "    </tr>\n",
       "  </tbody>\n",
       "</table>\n",
       "</div>"
      ],
      "text/plain": [
       "   listing_id     date available  price  year    month\n",
       "0        8110  10/2/18         t    105  2018  October\n",
       "1       14468  10/2/18         t     99  2018  October\n",
       "2       16076  10/2/18         t     94  2018  October\n",
       "3       19159  10/2/18         t    140  2018  October\n",
       "4       19169  10/2/18         t    285  2018  October"
      ]
     },
     "execution_count": 3,
     "metadata": {},
     "output_type": "execute_result"
    }
   ],
   "source": [
    "csv_path = \"nyc_calendar.csv\"\n",
    "nyc_df = pd.read_csv(csv_path)\n",
    "nyc_df.head()"
   ]
  },
  {
   "cell_type": "code",
   "execution_count": 4,
   "metadata": {},
   "outputs": [
    {
     "data": {
      "text/plain": [
       "month\n",
       "April        164.102095\n",
       "August       165.061762\n",
       "December     166.199800\n",
       "February     155.381912\n",
       "January      156.692847\n",
       "July         165.319378\n",
       "June         164.451798\n",
       "March        158.867220\n",
       "May          163.838634\n",
       "November     165.974762\n",
       "October      162.101618\n",
       "September    164.626408\n",
       "Name: price, dtype: float64"
      ]
     },
     "execution_count": 4,
     "metadata": {},
     "output_type": "execute_result"
    }
   ],
   "source": [
    "grouped = nyc_df.groupby([\"month\"])\n",
    "grouped_month = grouped[\"price\"].mean()\n",
    "grouped_month"
   ]
  },
  {
   "cell_type": "code",
   "execution_count": 6,
   "metadata": {},
   "outputs": [
    {
     "data": {
      "text/html": [
       "<style  type=\"text/css\" >\n",
       "</style><table id=\"T_aeba6a4c_7105_11ea_baa4_c4b301d2d9dd\" ><thead>    <tr>        <th class=\"blank level0\" ></th>        <th class=\"col_heading level0 col0\" >price</th>    </tr>    <tr>        <th class=\"index_name level0\" >month</th>        <th class=\"blank\" ></th>    </tr></thead><tbody>\n",
       "                <tr>\n",
       "                        <th id=\"T_aeba6a4c_7105_11ea_baa4_c4b301d2d9ddlevel0_row0\" class=\"row_heading level0 row0\" >January</th>\n",
       "                        <td id=\"T_aeba6a4c_7105_11ea_baa4_c4b301d2d9ddrow0_col0\" class=\"data row0 col0\" >$156.69</td>\n",
       "            </tr>\n",
       "            <tr>\n",
       "                        <th id=\"T_aeba6a4c_7105_11ea_baa4_c4b301d2d9ddlevel0_row1\" class=\"row_heading level0 row1\" >February</th>\n",
       "                        <td id=\"T_aeba6a4c_7105_11ea_baa4_c4b301d2d9ddrow1_col0\" class=\"data row1 col0\" >$155.38</td>\n",
       "            </tr>\n",
       "            <tr>\n",
       "                        <th id=\"T_aeba6a4c_7105_11ea_baa4_c4b301d2d9ddlevel0_row2\" class=\"row_heading level0 row2\" >March</th>\n",
       "                        <td id=\"T_aeba6a4c_7105_11ea_baa4_c4b301d2d9ddrow2_col0\" class=\"data row2 col0\" >$158.87</td>\n",
       "            </tr>\n",
       "            <tr>\n",
       "                        <th id=\"T_aeba6a4c_7105_11ea_baa4_c4b301d2d9ddlevel0_row3\" class=\"row_heading level0 row3\" >April</th>\n",
       "                        <td id=\"T_aeba6a4c_7105_11ea_baa4_c4b301d2d9ddrow3_col0\" class=\"data row3 col0\" >$164.10</td>\n",
       "            </tr>\n",
       "            <tr>\n",
       "                        <th id=\"T_aeba6a4c_7105_11ea_baa4_c4b301d2d9ddlevel0_row4\" class=\"row_heading level0 row4\" >May</th>\n",
       "                        <td id=\"T_aeba6a4c_7105_11ea_baa4_c4b301d2d9ddrow4_col0\" class=\"data row4 col0\" >$163.84</td>\n",
       "            </tr>\n",
       "            <tr>\n",
       "                        <th id=\"T_aeba6a4c_7105_11ea_baa4_c4b301d2d9ddlevel0_row5\" class=\"row_heading level0 row5\" >June</th>\n",
       "                        <td id=\"T_aeba6a4c_7105_11ea_baa4_c4b301d2d9ddrow5_col0\" class=\"data row5 col0\" >$164.45</td>\n",
       "            </tr>\n",
       "            <tr>\n",
       "                        <th id=\"T_aeba6a4c_7105_11ea_baa4_c4b301d2d9ddlevel0_row6\" class=\"row_heading level0 row6\" >July</th>\n",
       "                        <td id=\"T_aeba6a4c_7105_11ea_baa4_c4b301d2d9ddrow6_col0\" class=\"data row6 col0\" >$165.32</td>\n",
       "            </tr>\n",
       "            <tr>\n",
       "                        <th id=\"T_aeba6a4c_7105_11ea_baa4_c4b301d2d9ddlevel0_row7\" class=\"row_heading level0 row7\" >August</th>\n",
       "                        <td id=\"T_aeba6a4c_7105_11ea_baa4_c4b301d2d9ddrow7_col0\" class=\"data row7 col0\" >$165.06</td>\n",
       "            </tr>\n",
       "            <tr>\n",
       "                        <th id=\"T_aeba6a4c_7105_11ea_baa4_c4b301d2d9ddlevel0_row8\" class=\"row_heading level0 row8\" >September</th>\n",
       "                        <td id=\"T_aeba6a4c_7105_11ea_baa4_c4b301d2d9ddrow8_col0\" class=\"data row8 col0\" >$164.63</td>\n",
       "            </tr>\n",
       "            <tr>\n",
       "                        <th id=\"T_aeba6a4c_7105_11ea_baa4_c4b301d2d9ddlevel0_row9\" class=\"row_heading level0 row9\" >October</th>\n",
       "                        <td id=\"T_aeba6a4c_7105_11ea_baa4_c4b301d2d9ddrow9_col0\" class=\"data row9 col0\" >$162.10</td>\n",
       "            </tr>\n",
       "            <tr>\n",
       "                        <th id=\"T_aeba6a4c_7105_11ea_baa4_c4b301d2d9ddlevel0_row10\" class=\"row_heading level0 row10\" >November</th>\n",
       "                        <td id=\"T_aeba6a4c_7105_11ea_baa4_c4b301d2d9ddrow10_col0\" class=\"data row10 col0\" >$165.97</td>\n",
       "            </tr>\n",
       "            <tr>\n",
       "                        <th id=\"T_aeba6a4c_7105_11ea_baa4_c4b301d2d9ddlevel0_row11\" class=\"row_heading level0 row11\" >December</th>\n",
       "                        <td id=\"T_aeba6a4c_7105_11ea_baa4_c4b301d2d9ddrow11_col0\" class=\"data row11 col0\" >$166.20</td>\n",
       "            </tr>\n",
       "    </tbody></table>"
      ],
      "text/plain": [
       "<pandas.io.formats.style.Styler at 0x1183f5390>"
      ]
     },
     "execution_count": 6,
     "metadata": {},
     "output_type": "execute_result"
    }
   ],
   "source": [
    "monthly_price = pd.DataFrame(grouped_month)\n",
    "monthly_price_arranged = monthly_price.loc[[\"January\",\"February\",\"March\",\"April\",\n",
    "                   \"May\",\"June\",\"July\",\"August\",\"September\",\n",
    "                   \"October\",\"November\",\"December\"],\n",
    "                  [\"price\"]]\n",
    "monthly_price_arranged\n",
    "monthly_price_arranged.style.format({\"price\":\"${:,.2f}\"})\n"
   ]
  },
  {
   "cell_type": "code",
   "execution_count": 68,
   "metadata": {},
   "outputs": [
    {
     "data": {
      "text/plain": [
       "Text(0, 0.5, 'Price in $')"
      ]
     },
     "execution_count": 68,
     "metadata": {},
     "output_type": "execute_result"
    },
    {
     "data": {
      "image/png": "[encoded data removed]",
      "text/plain": [
       "<Figure size 432x288 with 1 Axes>"
      ]
     },
     "metadata": {
      "needs_background": "light"
     },
     "output_type": "display_data"
    }
   ],
   "source": [
    "time = [150, 170, 2]\n",
    "months = [\"Jan\",\"Feb\",\"Mar\",\"April\",\n",
    "          \"May\",\"June\",\"July\",\"Aug\",\"Sept\",\n",
    "          \"Oct\",\"Nov\",\"Dec\"]\n",
    "price = [156, 155, 158, 164, 163, 164, 165, 165, 164, 162, 165, 166]\n",
    "plt.plot(months, price)\n",
    "\n",
    "plt.title(\"NYC Average Airbnb Rental Price by Month\")\n",
    "plt.xlabel(\"Months\")\n",
    "plt.ylabel(\"Price in $\")"
   ]
  },
  {
   "cell_type": "code",
   "execution_count": null,
   "metadata": {},
   "outputs": [],
   "source": []
  }
 ],
 "metadata": {
  "kernelspec": {
   "display_name": "Python 3",
   "language": "python",
   "name": "python3"
  },
  "language_info": {
   "codemirror_mode": {
    "name": "ipython",
    "version": 3
   },
   "file_extension": ".py",
   "mimetype": "text/x-python",
   "name": "python",
   "nbconvert_exporter": "python",
   "pygments_lexer": "ipython3",
   "version": "3.7.4"
  }
 },
 "nbformat": 4,
 "nbformat_minor": 2
}
